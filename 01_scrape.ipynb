{
 "cells": [
  {
   "cell_type": "code",
   "execution_count": 1,
   "id": "7942caec",
   "metadata": {},
   "outputs": [
    {
     "ename": "SyntaxError",
     "evalue": "invalid syntax (2680901461.py, line 10)",
     "output_type": "error",
     "traceback": [
      "\u001b[0;36m  File \u001b[0;32m\"/var/folders/fy/dq076l2x6h193qvwcs1f0qm00000gn/T/ipykernel_35806/2680901461.py\"\u001b[0;36m, line \u001b[0;32m10\u001b[0m\n\u001b[0;31m    import jupyterlab-spellchecker\u001b[0m\n\u001b[0m                     ^\u001b[0m\n\u001b[0;31mSyntaxError\u001b[0m\u001b[0;31m:\u001b[0m invalid syntax\n"
     ]
    }
   ],
   "source": [
    "import requests # Downloading webpages\n",
    "from bs4 import BeautifulSoup # Extracting data from html files\n",
    "from urllib.parse import urljoin # Cleaning URLS\n",
    "import json # Parsing JSON\n",
    "from time import sleep # Time management\n",
    "#from tqdm.notebook import tqdm \n",
    "from tqdm import tqdm # Processbar\n",
    "from pathlib import Path # Working with files\n",
    "import random # Generating pseudo random numbers"
   ]
  },
  {
   "cell_type": "markdown",
   "id": "7f8b9276",
   "metadata": {},
   "source": [
    "Extract a list of all constituencies"
   ]
  },
  {
   "cell_type": "code",
   "execution_count": 2,
   "id": "e61184cb",
   "metadata": {},
   "outputs": [],
   "source": [
    "stemmeseddel_url = 'https://www.dr.dk/nyheder/politik/folketingsvalg/din-stemmeseddel' # website with links to all constituencies\n",
    "stemmeseddel_req = requests.get(stemmeseddel_url) # download page\n",
    "stemmeseddel_soup = BeautifulSoup(stemmeseddel_req.text) # using .text extracts html code from webpage"
   ]
  },
  {
   "cell_type": "markdown",
   "id": "f5052a35",
   "metadata": {},
   "source": [
    "Extract links to each constituency"
   ]
  },
  {
   "cell_type": "code",
   "execution_count": 5,
   "id": "bba060e0",
   "metadata": {},
   "outputs": [],
   "source": [
    "kreds_urls_ugly = stemmeseddel_soup('a', class_='AccordionGrid_link__cGkec') # extracting the links 'a' we want. By looking at the page with the inspect feature, we see that all the links we're interested in are classified with AccordionGrid_link__cGkec.\n",
    "kreds_urls = list(map(lambda x: urljoin(stemmeseddel_url, x['href']), kreds_urls_ugly)) # cleaning to get at list of constituency links"
   ]
  },
  {
   "cell_type": "markdown",
   "id": "105783ef",
   "metadata": {},
   "source": [
    "Defining function to extract the url for each candidate"
   ]
  },
  {
   "cell_type": "code",
   "execution_count": 4,
   "id": "66eba454",
   "metadata": {},
   "outputs": [],
   "source": [
    "def kreds_kandidater(kreds_url):\n",
    "    req = requests.get(kreds_url) # get webpage for the constituency\n",
    "    soup = BeautifulSoup(req.text) # get html text\n",
    "    \n",
    "    kandidater_soup = soup.find('script', id='__NEXT_DATA__').text # search in html\n",
    "    kandidater_json = json.loads(kandidater_soup) # extract json\n",
    "    kandidater_data = kandidater_json['props']['pageProps']['smallConstituencyCandidatesByPartyCode'] # list of candidates by party\n",
    "    \n",
    "    # kandidater_data[0] is all kandidates from the first party in the current constituency in JSON format. In kreds_urls[0] (Rønne), is that Lea, Steen og Lars from socialdemokratiet.\n",
    "    \n",
    "    # urls for each candidate\n",
    "    kandidat_urls = []\n",
    "    for parti in kandidater_data: # go through all parties in the constituency\n",
    "        for kandidat in list(parti.values())[0]['candidates']: # for each kandidate in the party\n",
    "            kandidat_urls.append(kandidat['urlKey']) # save the URL for the candidate\n",
    "    return kandidat_urls"
   ]
  },
  {
   "cell_type": "code",
   "execution_count": 5,
   "id": "a305d5fc",
   "metadata": {},
   "outputs": [
    {
     "name": "stderr",
     "output_type": "stream",
     "text": [
      "100%|███████████████████████████████████████████| 92/92 [03:04<00:00,  2.01s/it]\n"
     ]
    }
   ],
   "source": [
    "kandidat_urls = []\n",
    "for kreds_url in tqdm(kreds_urls): # go through all constisuencies\n",
    "    kandidat_urls += kreds_kandidater(kreds_url) # save the URLs"
   ]
  },
  {
   "cell_type": "markdown",
   "id": "58c9285e",
   "metadata": {},
   "source": [
    "Saving the URLs for every candidate"
   ]
  },
  {
   "cell_type": "code",
   "execution_count": 6,
   "id": "dd1aeae9",
   "metadata": {},
   "outputs": [],
   "source": [
    "#open(\"candidate_urls.txt\", \"x\")\n",
    "urlfile = Path('kandidat_urls') # creating a new file\n",
    "with urlfile.open('w') as f: # with automatically closes the file again, avoiding us closing it again manually\n",
    "                             # the 'w' allows ud to write in the file\n",
    "                             # with open as f, the file is in the variable f\n",
    "    for url in set(kandidat_urls): # using 'set' to remove duplicates\n",
    "        f.write(url + '\\n') # adding a new line after each candidate"
   ]
  },
  {
   "cell_type": "markdown",
   "id": "408fddd4",
   "metadata": {},
   "source": [
    "Scraping data for each candidate"
   ]
  },
  {
   "cell_type": "code",
   "execution_count": 7,
   "id": "0a6eb145",
   "metadata": {},
   "outputs": [],
   "source": [
    "kandidat_baseurl = 'https://www.dr.dk/nyheder/politik/folketingsvalg/din-stemmeseddel/kandidater/' # the first part of every URL"
   ]
  },
  {
   "cell_type": "code",
   "execution_count": 8,
   "id": "bfa2590a",
   "metadata": {},
   "outputs": [
    {
     "name": "stderr",
     "output_type": "stream",
     "text": [
      "100%|███████████████████████████████████████| 1014/1014 [16:24<00:00,  1.03it/s]\n"
     ]
    }
   ],
   "source": [
    "for kandidat_url in tqdm(set(kandidat_urls)):\n",
    "    kandidat_fil = Path(f'kandidater/{kandidat_url}.json') # create filepath to save candiate info in\n",
    "    if kandidat_fil.exists(): continue # if the file is already made, skip the rest of the loop\n",
    "\n",
    "    req = requests.get(kandidat_baseurl + kandidat_url) # get the page\n",
    "    soup = BeautifulSoup(req.text) # get the html text\n",
    "    kandidat_data = soup.find('script', id='__NEXT_DATA__').text # get data\n",
    "    kandidat_fil.write_text(kandidat_data) # write the data to file\n",
    "    sleep(random.random() * 8) # avoid becoming a hacker"
   ]
  }
 ],
 "metadata": {
  "kernelspec": {
   "display_name": "Python 3 (ipykernel)",
   "language": "python",
   "name": "python3"
  },
  "language_info": {
   "codemirror_mode": {
    "name": "ipython",
    "version": 3
   },
   "file_extension": ".py",
   "mimetype": "text/x-python",
   "name": "python",
   "nbconvert_exporter": "python",
   "pygments_lexer": "ipython3",
   "version": "3.9.5"
  }
 },
 "nbformat": 4,
 "nbformat_minor": 5
}
