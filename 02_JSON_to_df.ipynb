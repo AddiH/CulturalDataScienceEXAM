{
 "cells": [
  {
   "cell_type": "code",
   "execution_count": 2,
   "id": "2d091a17-3424-487a-a241-62d827b36b61",
   "metadata": {},
   "outputs": [],
   "source": [
    "import json\n",
    "import tqdm\n",
    "import pandas as pd\n",
    "from pathlib import Path"
   ]
  },
  {
   "cell_type": "code",
   "execution_count": 3,
   "id": "a668a8cc-051f-4e15-987b-a0fdef2371d6",
   "metadata": {},
   "outputs": [],
   "source": [
    "with open(\"kandidat_urls\", \"r\") as f:\n",
    "    kandidat_urls = f.read()\n",
    "    kandidat_list = kandidat_urls.split(\"\\n\")"
   ]
  },
  {
   "cell_type": "code",
   "execution_count": 4,
   "id": "491fa05c-2366-4d7b-93a0-24cfdc2a6aa4",
   "metadata": {},
   "outputs": [],
   "source": [
    "demo_list = []\n",
    "for kandidat in kandidat_list:\n",
    "    kandidat_file = f\"kandidater/{kandidat}.json\"\n",
    "\n",
    "    with open(kandidat_file, \"r\") as f:\n",
    "        kandidat_json = json.load(f)\n",
    "            \n",
    "    kandidat_data = {\n",
    "        \"ID\" : kandidat_json[\"props\"][\"pageProps\"][\"candidate\"][\"ID\"],\n",
    "        \"first_name\" : kandidat_json[\"props\"][\"pageProps\"][\"candidate\"][\"Firstname\"],\n",
    "        \"last_name\" : kandidat_json[\"props\"][\"pageProps\"][\"candidate\"][\"LastName\"],\n",
    "        \"gender\" : kandidat_json[\"props\"][\"pageProps\"][\"candidate\"][\"Gender\"],\n",
    "        \"birth\" : kandidat_json[\"props\"][\"pageProps\"][\"candidate\"][\"Birthdate\"],\n",
    "        \"party\" : kandidat_json[\"props\"][\"pageProps\"][\"candidate\"][\"CurrentPartyCode\"],\n",
    "        \"profession\" : kandidat_json[\"props\"][\"pageProps\"][\"candidate\"][\"Profession\"],\n",
    "        \"education\" : kandidat_json[\"props\"][\"pageProps\"][\"candidate\"][\"Education\"]}\n",
    "    \n",
    "    #måske også sæt svar ind her?\n",
    "    \n",
    "    demo_list.append(kandidat_data)\n",
    "    \n",
    "demo = pd.DataFrame(demo_list)\n",
    "\n",
    "demo.to_csv(Path('kandidat_demo.csv')) "
   ]
  },
  {
   "cell_type": "code",
   "execution_count": 19,
   "id": "cb4c7a67-a319-4815-8249-43ecf97e1334",
   "metadata": {},
   "outputs": [],
   "source": [
    "answer_list = []\n",
    "\n",
    "for kandidat in kandidat_list:\n",
    "    kandidat_answers = []\n",
    "    kandidat_file = f\"kandidater/{kandidat}.json\"\n",
    "\n",
    "    with open(kandidat_file, \"r\") as f:\n",
    "        kandidat_json = json.load(f)\n",
    "    \n",
    "    ID = kandidat_json[\"props\"][\"pageProps\"][\"candidate\"][\"ID\"]\n",
    "    \n",
    "    for i in range(25):\n",
    "        \n",
    "        if len(kandidat_json[\"props\"][\"pageProps\"][\"candidateAnswers\"]) == 0:\n",
    "            answer_i = None\n",
    "            info_i = None\n",
    "        else:\n",
    "            answer_i = kandidat_json[\"props\"][\"pageProps\"][\"candidateAnswers\"][i][\"Answer\"]\n",
    "            info_i = kandidat_json[\"props\"][\"pageProps\"][\"candidateAnswers\"][i][\"Info\"]\n",
    "        \n",
    "        kandidat_answer = [ID, i, answer_i, info_i]\n",
    "        \n",
    "        # kandidat_answer = {\n",
    "        # 'ID' : ID,\n",
    "        # 'q_no' : i,\n",
    "        # 'answer' : answer_i,\n",
    "        # 'info' : info_i}\n",
    "        \n",
    "        kandidat_answers.append(kandidat_answer)\n",
    "        \n",
    "    answer_list.append(kandidat_answers)"
   ]
  },
  {
   "cell_type": "code",
   "execution_count": 32,
   "id": "02d8ad73-5efb-4450-8851-f747ca4a7537",
   "metadata": {},
   "outputs": [],
   "source": [
    "answers = pd.DataFrame(answer_list)"
   ]
  },
  {
   "cell_type": "code",
   "execution_count": 30,
   "id": "81158d89-8661-4e22-9c9d-998bf63d8dbe",
   "metadata": {},
   "outputs": [],
   "source": [
    "answers = pd.DataFrame(answer_list[0], columns = ['ID', 'q_no', 'answer', 'info'])\n",
    "# answers.to_csv(Path('kandidat_answers.csv')) # how to make this into the thing i want?"
   ]
  },
  {
   "cell_type": "code",
   "execution_count": null,
   "id": "5183da2b-341a-478a-92b0-6739f5147962",
   "metadata": {},
   "outputs": [],
   "source": []
  }
 ],
 "metadata": {
  "kernelspec": {
   "display_name": "Python 3 (ipykernel)",
   "language": "python",
   "name": "python3"
  },
  "language_info": {
   "codemirror_mode": {
    "name": "ipython",
    "version": 3
   },
   "file_extension": ".py",
   "mimetype": "text/x-python",
   "name": "python",
   "nbconvert_exporter": "python",
   "pygments_lexer": "ipython3",
   "version": "3.9.5"
  }
 },
 "nbformat": 4,
 "nbformat_minor": 5
}
