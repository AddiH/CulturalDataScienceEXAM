{
 "cells": [
  {
   "cell_type": "code",
   "execution_count": 2,
   "id": "2d091a17-3424-487a-a241-62d827b36b61",
   "metadata": {},
   "outputs": [],
   "source": [
    "import json # Parsing JSON\n",
    "import tqdm # Processbar\n",
    "import pandas as pd # Dataframes\n",
    "from pathlib import Path # Working with files"
   ]
  },
  {
   "cell_type": "markdown",
   "id": "e5933d69-9776-42be-80c9-6e08fd41807e",
   "metadata": {},
   "source": [
    "Get a list of all candidates"
   ]
  },
  {
   "cell_type": "code",
   "execution_count": 2,
   "id": "a668a8cc-051f-4e15-987b-a0fdef2371d6",
   "metadata": {},
   "outputs": [],
   "source": [
    "with open(\"data/kandidat_urls\", \"r\") as f: # open file with urls\n",
    "    kandidat_urls = f.read() # save file in variable\n",
    "    kandidat_list = kandidat_urls.split(\"\\n\") # make the file into a list, without new lines"
   ]
  },
  {
   "cell_type": "markdown",
   "id": "ad819885-0942-4234-838f-57780b230df2",
   "metadata": {},
   "source": [
    "Extract demographic information"
   ]
  },
  {
   "cell_type": "code",
   "execution_count": 3,
   "id": "491fa05c-2366-4d7b-93a0-24cfdc2a6aa4",
   "metadata": {},
   "outputs": [],
   "source": [
    "demo_list = [] # make empty list\n",
    "for kandidat in kandidat_list: # go through all candidates\n",
    "    kandidat_file = f\"data/kandidater/{kandidat}.json\" # file name for candidate\n",
    "\n",
    "    with open(kandidat_file, \"r\") as f: # open candidate file\n",
    "        kandidat_json = json.load(f) # load the json\n",
    "            \n",
    "    kandidat_data = { # json index for relevant information:\n",
    "        \"ID\" : kandidat_json[\"props\"][\"pageProps\"][\"candidate\"][\"UrlKey\"], \n",
    "        \"first_name\" : kandidat_json[\"props\"][\"pageProps\"][\"candidate\"][\"Firstname\"],\n",
    "        \"last_name\" : kandidat_json[\"props\"][\"pageProps\"][\"candidate\"][\"LastName\"],\n",
    "        \"gender\" : kandidat_json[\"props\"][\"pageProps\"][\"candidate\"][\"Gender\"],\n",
    "        \"birth\" : kandidat_json[\"props\"][\"pageProps\"][\"candidate\"][\"Birthdate\"],\n",
    "        \"party\" : kandidat_json[\"props\"][\"pageProps\"][\"candidate\"][\"CurrentPartyCode\"],\n",
    "        \"profession\" : kandidat_json[\"props\"][\"pageProps\"][\"candidate\"][\"Profession\"],\n",
    "        \"education\" : kandidat_json[\"props\"][\"pageProps\"][\"candidate\"][\"Education\"]}\n",
    "    \n",
    "    #måske også sæt svar ind her?\n",
    "    \n",
    "    demo_list.append(kandidat_data) # append data for one candidate to the rest\n",
    "    \n",
    "demo = pd.DataFrame(demo_list) # make dict into dataframe\n",
    "\n",
    "demo.to_csv(Path('data/kandidat_demo.csv')) # save dataframe"
   ]
  },
  {
   "cell_type": "code",
   "execution_count": 4,
   "id": "cb4c7a67-a319-4815-8249-43ecf97e1334",
   "metadata": {},
   "outputs": [],
   "source": [
    "col_names = []\n",
    "for i in range(1,26):\n",
    "    col_names += [f\"answer_{i}\", f\"info_{i}\"]\n",
    "\n",
    "answers = pd.DataFrame(\n",
    "    columns = col_names,\n",
    "    index = kandidat_list)\n",
    "\n",
    "for kandidat in kandidat_list: # go through all candidates\n",
    "    kandidat_answers = [] # empty list for one candidate\n",
    "    kandidat_file = f\"data/kandidater/{kandidat}.json\" # file name for candidate\n",
    "\n",
    "    with open(kandidat_file, \"r\") as f:\n",
    "        kandidat_json = json.load(f) # get the json\n",
    "    \n",
    "    for i in range(25): # go through all 25 questions\n",
    "        \n",
    "        if len(kandidat_json[\"props\"][\"pageProps\"][\"candidateAnswers\"]) == 0: # if the candidate did not answer the question\n",
    "            answer_i = None \n",
    "            info_i = None\n",
    "        else:\n",
    "            answer_i = kandidat_json[\"props\"][\"pageProps\"][\"candidateAnswers\"][i][\"Answer\"] # save the answer\n",
    "            info_i = kandidat_json[\"props\"][\"pageProps\"][\"candidateAnswers\"][i][\"Info\"] # save potential comments to answer\n",
    "        \n",
    "        kandidat_answers += [answer_i, info_i]\n",
    "\n",
    "    answers.loc[kandidat,:] = kandidat_answers\n",
    "\n",
    "answers.to_csv(Path('data/kandidat_answers.csv')) # save dataframe"
   ]
  }
 ],
 "metadata": {
  "kernelspec": {
   "display_name": "Python 3 (ipykernel)",
   "language": "python",
   "name": "python3"
  },
  "language_info": {
   "codemirror_mode": {
    "name": "ipython",
    "version": 3
   },
   "file_extension": ".py",
   "mimetype": "text/x-python",
   "name": "python",
   "nbconvert_exporter": "python",
   "pygments_lexer": "ipython3",
   "version": "3.9.5"
  }
 },
 "nbformat": 4,
 "nbformat_minor": 5
}
