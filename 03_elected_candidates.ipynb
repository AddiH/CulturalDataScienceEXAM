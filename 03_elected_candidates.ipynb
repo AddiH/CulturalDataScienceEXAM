{
 "cells": [
  {
   "cell_type": "code",
   "execution_count": 11,
   "id": "a54d95a2-77cd-4988-93dd-7e42eaa8d7ff",
   "metadata": {},
   "outputs": [],
   "source": [
    "import requests # Downloading webpages\n",
    "from bs4 import BeautifulSoup # Extracting data from html files\n",
    "import json # Parsing JSON\n",
    "from pathlib import Path # Working with files\n",
    "import pandas as pd # Dataframes"
   ]
  },
  {
   "cell_type": "code",
   "execution_count": 2,
   "id": "5f3c062a-456a-4ef5-b777-1c6840071769",
   "metadata": {},
   "outputs": [],
   "source": [
    "url = 'https://www.dr.dk/nyheder/politik/folketingsvalg/valgte' # website with links to all elected candidates\n",
    "req = requests.get(url) # download page\n",
    "soup = BeautifulSoup(req.text) # using .text extracts html code from webpage"
   ]
  },
  {
   "cell_type": "code",
   "execution_count": 3,
   "id": "2e04ef0c-323d-4c49-aa7a-d545d9f0cba0",
   "metadata": {},
   "outputs": [
    {
     "data": {
      "text/plain": [
       "30613"
      ]
     },
     "execution_count": 3,
     "metadata": {},
     "output_type": "execute_result"
    }
   ],
   "source": [
    "str_json = soup.find('script', id='__NEXT_DATA__').text # get json part\n",
    "elected_file = Path('data/elected_file.json') # path for file\n",
    "elected_file.write_text(str_json) # save json"
   ]
  },
  {
   "cell_type": "code",
   "execution_count": 14,
   "id": "7abf84e4-4ae2-4374-907c-2cbbe98a4d06",
   "metadata": {},
   "outputs": [],
   "source": [
    "elected_list = []\n",
    "\n",
    "with open('data/elected_file.json', \"r\") as f: # open json file\n",
    "        elected_json = json.load(f)        \n",
    "\n",
    "for i in range(175):  # for all elected candidates, save:\n",
    "    elected_data = {\n",
    "    \"ID\" : elected_json[\"props\"][\"pageProps\"][\"electedCandidates\"][i][\"urlkey\"], # ID\n",
    "    \"votes\" : elected_json[\"props\"][\"pageProps\"][\"electedCandidates\"][i][\"v\"]} # number of votes\n",
    "\n",
    "    elected_list.append(elected_data) # append data for one candidate to the rest\n",
    "\n",
    "    \n",
    "elected = pd.DataFrame(elected_list) # make dict into dataframe\n",
    "elected.to_csv(Path('data/kandidat_elected.csv')) # save dataframe"
   ]
  }
 ],
 "metadata": {
  "kernelspec": {
   "display_name": "Python 3 (ipykernel)",
   "language": "python",
   "name": "python3"
  },
  "language_info": {
   "codemirror_mode": {
    "name": "ipython",
    "version": 3
   },
   "file_extension": ".py",
   "mimetype": "text/x-python",
   "name": "python",
   "nbconvert_exporter": "python",
   "pygments_lexer": "ipython3",
   "version": "3.9.5"
  }
 },
 "nbformat": 4,
 "nbformat_minor": 5
}
